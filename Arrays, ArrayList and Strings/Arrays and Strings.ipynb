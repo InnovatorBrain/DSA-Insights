{
 "cells": [
  {
   "cell_type": "markdown",
   "id": "abafc6cf-7814-468a-b9b7-a63b1db227dc",
   "metadata": {},
   "source": [
    "## Arrays and String\n",
    "# Arrays and strings:"
   ]
  },
  {
   "cell_type": "markdown",
   "id": "409b0da6-b7ae-4d6d-be14-86ec7ab75460",
   "metadata": {},
   "source": [
    "### operations related to arrays:\n",
    "Creating, Accessing, Deleting, Common Operations:\n",
    "### operations related to strings:\n",
    "Creating, Accessing, Concatenation, Slicing, Common Operations:\n"
   ]
  },
  {
   "cell_type": "markdown",
   "id": "f33b5267-dacb-4659-9d6a-aded334ec3e0",
   "metadata": {},
   "source": [
    "## Array\n",
    "## Searching \n",
    "1. Linear Searching\n"
   ]
  },
  {
   "cell_type": "code",
   "execution_count": 5,
   "id": "260a3b3f-5c74-4209-9e6e-40bf23bd5610",
   "metadata": {},
   "outputs": [
    {
     "name": "stdout",
     "output_type": "stream",
     "text": [
      "3\n"
     ]
    }
   ],
   "source": [
    "def linear_search(arr, target):\n",
    "    for i in range(len(arr)):\n",
    "        if arr[i] == target:\n",
    "            return i\n",
    "    return \"element not found\"\n",
    "my_array = [1,2,3,4,5,6,7,8,9]\n",
    "index = linear_search(my_array, 4)\n",
    "print(index)\n",
    "        "
   ]
  },
  {
   "cell_type": "markdown",
   "id": "689d3c16-ae27-4a43-8c0a-47415cfb8a1e",
   "metadata": {},
   "source": [
    "2. Binary Search"
   ]
  },
  {
   "cell_type": "code",
   "execution_count": 10,
   "id": "991b6729-6b7a-4bd4-963f-3bf4b5bc8ba8",
   "metadata": {},
   "outputs": [
    {
     "name": "stdout",
     "output_type": "stream",
     "text": [
      "-1\n"
     ]
    }
   ],
   "source": [
    "def binary_search(arr, target):\n",
    "    low, high = 0, len(arr) - 1\n",
    "    while low <= high:\n",
    "        mid = (low + high) // 2\n",
    "        if arr[mid] == target:\n",
    "            return mid\n",
    "        elif arr[mid] < target:\n",
    "            low = mid + 1\n",
    "        else:\n",
    "            high = mid - 1\n",
    "    return -1  # Element not found\n",
    "\n",
    "index = binary_search([25,40,85,5695,258], 4)\n",
    "print(index)\n"
   ]
  },
  {
   "cell_type": "markdown",
   "id": "1b5a27f1-bd21-4a27-84eb-cff71535b4b4",
   "metadata": {},
   "source": [
    "## Sorting Arrays:\n",
    "1. Bubble Sort"
   ]
  },
  {
   "cell_type": "code",
   "execution_count": 17,
   "id": "f49e33d3-0ed0-40cd-9df7-3d42315e76ce",
   "metadata": {},
   "outputs": [],
   "source": [
    "def bubble_sort(arr):\n",
    "    n = len(arr)\n",
    "    for i in range(n):\n",
    "        for j in range(0, n - i - 1):\n",
    "            if arr[j] > arr[j + 1]:\n",
    "                arr[j], arr[j + 1] = arr[j + 1], arr[j]\n",
    "\n",
    "bubble_sort(my_array)"
   ]
  },
  {
   "cell_type": "markdown",
   "id": "bf51142e-5361-45d5-bc25-c86c171f49ee",
   "metadata": {},
   "source": [
    "2. Quick Sort"
   ]
  },
  {
   "cell_type": "code",
   "execution_count": 19,
   "id": "91c12117-1659-433b-a80d-1d61d879dd66",
   "metadata": {},
   "outputs": [],
   "source": [
    "def quick_sort(arr):\n",
    "    if len(arr) <= 1:\n",
    "        return arr\n",
    "    pivot = arr[0]\n",
    "    left = [x for x in arr[1:] if x <= pivot]\n",
    "    right = [x for x in arr[1:] if x > pivot]\n",
    "    return quick_sort(left) + [pivot] + quick_sort(right)\n",
    "\n",
    "sorted_array = quick_sort(my_array)\n"
   ]
  },
  {
   "cell_type": "markdown",
   "id": "b1331248-1b8e-4524-8877-c234d4465add",
   "metadata": {},
   "source": [
    "# Two Pointer"
   ]
  },
  {
   "cell_type": "code",
   "execution_count": 24,
   "id": "2a757288-199f-452d-b45c-d57718b2042c",
   "metadata": {},
   "outputs": [],
   "source": [
    "# function fn(arr):\n",
    "#     left = 0\n",
    "#     right = arr.length - 1\n",
    "\n",
    "#     while left < right:\n",
    "#         Do some logic here depending on the problem\n",
    "#         Do some more logic here to decide on one of the following:\n",
    "#             1. left++\n",
    "#             2. right--\n",
    "#             3. Both left++ and right--"
   ]
  },
  {
   "cell_type": "markdown",
   "id": "0704d98f-c87f-46da-953d-70c755c99a2e",
   "metadata": {},
   "source": [
    "### Palindrome Example"
   ]
  },
  {
   "cell_type": "code",
   "execution_count": 28,
   "id": "5955c133-1573-4f51-8c61-8867196089f4",
   "metadata": {},
   "outputs": [
    {
     "name": "stdout",
     "output_type": "stream",
     "text": [
      "False\n"
     ]
    }
   ],
   "source": [
    "def check_if_palindrome(s):\n",
    "    left = 0\n",
    "    right = len(s) - 1\n",
    "\n",
    "    while left < right:\n",
    "        if s[left] != s[right]:\n",
    "            return False\n",
    "        left += 1\n",
    "        right -= 1\n",
    "    \n",
    "    return True\n",
    "index = check_if_palindrome(\"half\")\n",
    "print(index)"
   ]
  },
  {
   "cell_type": "code",
   "execution_count": 1,
   "id": "bbbbe1ca-d8da-48a6-83c6-700038159d68",
   "metadata": {},
   "outputs": [],
   "source": [
    "def check_for_target(nums, target):\n",
    "    left = 0\n",
    "    right = len(nums) - 1\n",
    "\n",
    "    while left < right:\n",
    "        # curr is the current sum\n",
    "        curr = nums[left] + nums[right]\n",
    "        if curr == target:\n",
    "            return True\n",
    "        if curr > target:\n",
    "            right -= 1\n",
    "        else:\n",
    "            left += 1\n",
    "    \n",
    "    return False"
   ]
  },
  {
   "cell_type": "markdown",
   "id": "d2355640-acd5-4ed1-81ac-87d170c11f50",
   "metadata": {},
   "source": [
    "### How can I combine two unsorted arrays to create a single, sorted array?"
   ]
  },
  {
   "cell_type": "code",
   "execution_count": 2,
   "id": "061c4dd3-ffa2-4b6a-b6eb-aa52f71326ce",
   "metadata": {},
   "outputs": [],
   "source": [
    "def combine(arr1, arr2):\n",
    "    # ans is the answer\n",
    "    ans = []\n",
    "    i = j = 0\n",
    "    while i < len(arr1) and j < len(arr2):\n",
    "        if arr1[i] < arr2[j]:\n",
    "            ans.append(arr1[i])\n",
    "            i += 1\n",
    "        else:\n",
    "            ans.append(arr2[j])\n",
    "            j += 1\n",
    "    \n",
    "    while i < len(arr1):\n",
    "        ans.append(arr1[i])\n",
    "        i += 1\n",
    "    \n",
    "    while j < len(arr2):\n",
    "        ans.append(arr2[j])\n",
    "        j += 1\n",
    "    \n",
    "    return ans"
   ]
  },
  {
   "cell_type": "markdown",
   "id": "3dc1ad7c-07cd-49a1-8710-1d81a2eb8b37",
   "metadata": {},
   "source": [
    "### isSubsequence?\n"
   ]
  },
  {
   "cell_type": "code",
   "execution_count": 9,
   "id": "349be7cf-c77b-4886-bacf-54c48693d5c6",
   "metadata": {},
   "outputs": [
    {
     "name": "stdout",
     "output_type": "stream",
     "text": [
      "True\n"
     ]
    }
   ],
   "source": [
    "class Solution:\n",
    "    def isSubsequence(self, s: str, t: str) -> bool:\n",
    "        i = j = 0\n",
    "        while i < len(s) and j < len(t):\n",
    "            if s[i] == t[j]:\n",
    "                i += 1\n",
    "            j += 1\n",
    "\n",
    "        return i == len(s)\n",
    "\n",
    "solution = Solution()\n",
    "print(solution.isSubsequence(\"azn\",\"Faizan\"))"
   ]
  },
  {
   "cell_type": "code",
   "execution_count": 13,
   "id": "9dac8434-c97b-4125-a85a-60975b29e048",
   "metadata": {},
   "outputs": [
    {
     "name": "stdout",
     "output_type": "stream",
     "text": [
      "[2, 3]\n"
     ]
    }
   ],
   "source": [
    "from typing import List\n",
    "class Solution:\n",
    "    def twoSum(self, nums: List[int], target: int) -> List[int]:\n",
    "        z = len(nums)\n",
    "        for n in range(z - 1):\n",
    "            for m in range(n + 1, z):\n",
    "                if nums[n] + nums[m] == target:\n",
    "                    return [n, m]\n",
    "        return \"Solution Not Found\"\n",
    "solution = Solution()\n",
    "res = solution.twoSum([1,2,4,8,9], 12)   \n",
    "print(res)"
   ]
  },
  {
   "cell_type": "markdown",
   "id": "73c77b54-3acd-4448-974e-e01fa401c308",
   "metadata": {},
   "source": [
    "### squares of sorted array"
   ]
  },
  {
   "cell_type": "code",
   "execution_count": 1,
   "id": "a7cfa966-d028-4b24-b95a-42c712c926de",
   "metadata": {},
   "outputs": [
    {
     "name": "stdout",
     "output_type": "stream",
     "text": [
      "[0, 4, 4, 16, 25]\n"
     ]
    }
   ],
   "source": [
    "def sorted_squares(nums):\n",
    "    return sorted(x*x for x in nums)\n",
    "\n",
    "# Example usage:\n",
    "sorted_array = [-4, -2, 0, 2, 5]\n",
    "squared_array = sorted_squares(sorted_array)\n",
    "print(squared_array)\n"
   ]
  },
  {
   "cell_type": "code",
   "execution_count": null,
   "id": "7e95fd38-952d-412c-adcf-71baa787d490",
   "metadata": {},
   "outputs": [],
   "source": []
  }
 ],
 "metadata": {
  "kernelspec": {
   "display_name": "Python 3 (ipykernel)",
   "language": "python",
   "name": "python3"
  },
  "language_info": {
   "codemirror_mode": {
    "name": "ipython",
    "version": 3
   },
   "file_extension": ".py",
   "mimetype": "text/x-python",
   "name": "python",
   "nbconvert_exporter": "python",
   "pygments_lexer": "ipython3",
   "version": "3.12.0"
  }
 },
 "nbformat": 4,
 "nbformat_minor": 5
}
